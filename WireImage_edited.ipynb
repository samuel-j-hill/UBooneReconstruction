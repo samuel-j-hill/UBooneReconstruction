{
 "cells": [
  {
   "cell_type": "markdown",
   "id": "f7d15e48",
   "metadata": {},
   "source": [
    "This is the WireImage.ipynb file from the OpenSamples repository (https://github.com/uboone/OpenSamples.git), edited in order to create a hit level image file with corresponding Pandora slice information. Changes made to the original file are marked with comments."
   ]
  },
  {
   "cell_type": "markdown",
   "id": "22000215",
   "metadata": {},
   "source": [
    "# Wire Image Data"
   ]
  },
  {
   "cell_type": "markdown",
   "id": "438daaee",
   "metadata": {},
   "source": [
    "## Purpose of this notebook"
   ]
  },
  {
   "cell_type": "markdown",
   "id": "14de3096",
   "metadata": {},
   "source": [
    "This notebook provides an example for visualizing the recorded data in each event as a set of images, one per TPC plane. The image can be used for visual data processing, such as convolutional neural networks. Recent examples from MicroBooNE are “Semantic Segmentation with a Sparse Convolutional Neural Network for Event Reconstruction in MicroBooNE”, arXiv:2012.08513, Phys. Rev. D103, 052012 (2021) and ”A Convolutional Neural Network for Multiple Particle Identification in the MicroBooNE Liquid Argon Time Projection Chamber”, arXiv:2010.08653, Phys. Rev. D103, 092003 (2021). \n",
    "\n",
    "In order to use this notebook, samples labeled as \"with Wire\" need to be used; due to large size of the Wire waveform information, these are samples with reduced number of events. The 2D image shows the time (in TPC clock ticks) vs the wire number, and the color scale is the wire waveform amplitude at each tick in ADC units. Larger ADC values mean larger deposited charge.\n",
    "\n",
    "Ground truth information with resolution of image pixels is not provided, as it would further increase the size of the sample. However, as shown in the \"Hit Labeling.ipynb\" notebook, we provide tools to produce ground truth information from hits that have the same 2D structure of these images and thus can be used to define the image ground truth. For instance, one can check if a non-zero pixel lies on the same wire and within `±n*rms` of the `local_time` of a hit, and in that case assign to the pixel the same label as the hit. An example of how to do this will be demostrated in this notebook."
   ]
  },
  {
   "cell_type": "markdown",
   "id": "5502c48b",
   "metadata": {},
   "source": [
    "## Load useful libraries, utilities, and data"
   ]
  },
  {
   "cell_type": "code",
   "execution_count": 1,
   "id": "e2bfe0ad",
   "metadata": {},
   "outputs": [],
   "source": [
    "import numpy as np\n",
    "import matplotlib.pyplot as plt"
   ]
  },
  {
   "cell_type": "code",
   "execution_count": 2,
   "id": "8bb3c212",
   "metadata": {},
   "outputs": [],
   "source": [
    "from microboone_utils import *"
   ]
  },
  {
   "cell_type": "code",
   "execution_count": 3,
   "id": "683a1b6c",
   "metadata": {},
   "outputs": [],
   "source": [
    "from pynuml.io import File\n",
    "f = File(\"bnb_WithWire_00.h5\")"
   ]
  },
  {
   "cell_type": "code",
   "execution_count": null,
   "id": "14cee71c",
   "metadata": {},
   "outputs": [],
   "source": [
    "tables = ['event_table','wire_table','hit_table','edep_table',\"pandoraHit_table\"]  # Added pandora hit table data to list\n",
    "for t in tables: f.add_group(t)\n",
    "f.read_data(0, 5)\n",
    "evts = f.build_evt()"
   ]
  },
  {
   "cell_type": "markdown",
   "id": "4442dcf3",
   "metadata": {},
   "source": [
    "## Extract the Wire information for one event and produce the image"
   ]
  },
  {
   "cell_type": "markdown",
   "id": "68b452f0",
   "metadata": {},
   "source": [
    "Select the event and print the event_id"
   ]
  },
  {
   "cell_type": "code",
   "execution_count": 5,
   "id": "edaf0a8a",
   "metadata": {},
   "outputs": [
    {
     "name": "stdout",
     "output_type": "stream",
     "text": [
      "Going to produce wire image for event: [7004, 331, 16552]\n"
     ]
    }
   ],
   "source": [
    "evt = evts[1]\n",
    "evt_id = [evt[\"event_table\"][\"run\"].iloc[0],evt[\"event_table\"][\"subrun\"].iloc[0],evt[\"event_table\"][\"event\"].iloc[0]]\n",
    "print('Going to produce wire image for event:',evt_id)"
   ]
  },
  {
   "cell_type": "markdown",
   "id": "0b060035",
   "metadata": {},
   "source": [
    "Extract wire information for this specific event, and get the wire readouts (ADC) for the different planes"
   ]
  },
  {
   "cell_type": "code",
   "execution_count": 6,
   "id": "262c5ef6",
   "metadata": {},
   "outputs": [],
   "source": [
    "wires = evt[\"wire_table\"]"
   ]
  },
  {
   "cell_type": "code",
   "execution_count": 7,
   "id": "4fceccf4",
   "metadata": {},
   "outputs": [],
   "source": [
    "planeadcs = [wires.query(\"local_plane==%i\"%p)[['adc_%i'%i for i in range(0,ntimeticks())]].to_numpy() for p in range(0,nplanes())]"
   ]
  },
  {
   "cell_type": "markdown",
   "id": "b4bb9fed",
   "metadata": {},
   "source": [
    "Print information about the number of wires and ACD reads (waveform amplitude at each time tick)"
   ]
  },
  {
   "cell_type": "code",
   "execution_count": 8,
   "id": "61b6e342",
   "metadata": {},
   "outputs": [
    {
     "name": "stdout",
     "output_type": "stream",
     "text": [
      "number of plane 0 wires= 2400\n",
      "number of plane 1 wires= 2400\n",
      "number of plane 2 wires= 3456\n",
      "number of ADC reads= 6400\n",
      "plane2 vs plane0/1 aspect ratio =  1.44\n"
     ]
    }
   ],
   "source": [
    "print(\"number of plane 0 wires=\",len(planeadcs[0]))\n",
    "print(\"number of plane 1 wires=\",len(planeadcs[1]))\n",
    "print(\"number of plane 2 wires=\",len(planeadcs[2]))\n",
    "print(\"number of ADC reads=\",len(planeadcs[0][0]))\n",
    "aspratio = len(planeadcs[2])/len(planeadcs[1])\n",
    "print(\"plane2 vs plane0/1 aspect ratio = \",aspratio)"
   ]
  },
  {
   "cell_type": "markdown",
   "id": "8489be50",
   "metadata": {},
   "source": [
    "Now, let's downsample the data in the time coordinate (it may be useful for memory saving purposes) by a factor `f_downsample` (set to 2 in this example). The value in the resampling interval are summed, so we effectively move from ADC value to a pixel intensity defined as a sum of ADC values. We can plot the ADC sums and then define a cutoff value, with values below it assumed to be noise and thus set to zero, and a saturation point, where values above are set to it. Note that both the cutoff and saturation values depend on the resampling factor."
   ]
  },
  {
   "cell_type": "code",
   "execution_count": 9,
   "id": "c48e8343",
   "metadata": {},
   "outputs": [],
   "source": [
    "from skimage.measure import block_reduce"
   ]
  },
  {
   "cell_type": "code",
   "execution_count": 10,
   "id": "d5ac728c",
   "metadata": {},
   "outputs": [],
   "source": [
    "f_downsample = 6\n",
    "for p in range(0,nplanes()):\n",
    "    planeadcs[p] = block_reduce(planeadcs[p], block_size=(1,f_downsample), func=np.sum)"
   ]
  },
  {
   "cell_type": "code",
   "execution_count": 11,
   "id": "b0337b02",
   "metadata": {},
   "outputs": [
    {
     "data": {
      "image/png": "[encoded data removed]",
      "text/plain": [
       "<Figure size 640x480 with 1 Axes>"
      ]
     },
     "metadata": {},
     "output_type": "display_data"
    }
   ],
   "source": [
    "adcsgt0 = [i[i>0] for i in planeadcs[p] for p in range(0,nplanes())]\n",
    "flat_adcs = [item for sublist in adcsgt0 for item in sublist]\n",
    "plt.hist(flat_adcs,bins=np.linspace(0,200.*f_downsample/6.,101))\n",
    "plt.yscale('log')\n",
    "plt.xlabel('ADC sum value (pixel intensity)')\n",
    "plt.show()"
   ]
  },
  {
   "cell_type": "code",
   "execution_count": 12,
   "id": "65f3ff1b",
   "metadata": {},
   "outputs": [],
   "source": [
    "adccutoff = 10.*f_downsample/6.\n",
    "adcsaturation = 100.*f_downsample/6.\n",
    "for p in range(0,nplanes()):\n",
    "    planeadcs[p][planeadcs[p]<adccutoff] = 0\n",
    "    planeadcs[p][planeadcs[p]>adcsaturation] = adcsaturation"
   ]
  },
  {
   "cell_type": "markdown",
   "id": "7d0fb9a5",
   "metadata": {},
   "source": [
    "Let's make the image now for each plane as time tick vs wire number, color-coded based on the ADC sum value."
   ]
  },
  {
   "cell_type": "code",
   "execution_count": null,
   "id": "8f0186cc",
   "metadata": {
    "scrolled": false
   },
   "outputs": [
    {
     "name": "stdout",
     "output_type": "stream",
     "text": [
      "Run / Sub / Event : 7004 / 331 / 16552 - saturation set to ADC sum=100.00\n"
     ]
    },
    {
     "data": {
      "text/plain": [
       "<matplotlib.image.AxesImage at 0x7fcb48a931d0>"
      ]
     },
     "execution_count": 13,
     "metadata": {},
     "output_type": "execute_result"
    },
    {
     "data": {
      "image/png": "[encoded data removed]",
      "text/plain": [
       "<Figure size 640x480 with 1 Axes>"
      ]
     },
     "metadata": {},
     "output_type": "display_data"
    }
   ],
   "source": [
    "zmax = adcsaturation\n",
    "\n",
    "print(\"Run / Sub / Event : %i / %i / %i - saturation set to ADC sum=%.2f\"%(evt_id[0],evt_id[1],evt_id[2],zmax))\n",
    "\n",
    "plt.imshow(planeadcs[0].T,vmin=0,vmax=zmax,origin='lower',cmap='jet')   # Only making image for first plane"
   ]
  },
  {
   "cell_type": "markdown",
   "id": "af00f5ec",
   "metadata": {},
   "source": [
    "## Extract ground truth and convert into image format"
   ]
  },
  {
   "cell_type": "markdown",
   "id": "f3c7a1b7",
   "metadata": {},
   "source": [
    "Get the ground truth from hits and energy deposition tables."
   ]
  },
  {
   "cell_type": "code",
   "execution_count": 14,
   "id": "db3833b9",
   "metadata": {},
   "outputs": [
    {
     "data": {
      "text/html": [
       "<div>\n",
       "<style scoped>\n",
       "    .dataframe tbody tr th:only-of-type {\n",
       "        vertical-align: middle;\n",
       "    }\n",
       "\n",
       "    .dataframe tbody tr th {\n",
       "        vertical-align: top;\n",
       "    }\n",
       "\n",
       "    .dataframe thead th {\n",
       "        text-align: right;\n",
       "    }\n",
       "</style>\n",
       "<table border=\"1\" class=\"dataframe\">\n",
       "  <thead>\n",
       "    <tr style=\"text-align: right;\">\n",
       "      <th></th>\n",
       "      <th>hit_id</th>\n",
       "      <th>integral</th>\n",
       "      <th>local_plane</th>\n",
       "      <th>local_time</th>\n",
       "      <th>local_wire</th>\n",
       "      <th>rms</th>\n",
       "      <th>tpc</th>\n",
       "      <th>energy</th>\n",
       "      <th>energy_fraction</th>\n",
       "      <th>g4_id</th>\n",
       "    </tr>\n",
       "  </thead>\n",
       "  <tbody>\n",
       "    <tr>\n",
       "      <th>0</th>\n",
       "      <td>0</td>\n",
       "      <td>34.548923</td>\n",
       "      <td>0</td>\n",
       "      <td>903.091797</td>\n",
       "      <td>0</td>\n",
       "      <td>2.488400</td>\n",
       "      <td>0</td>\n",
       "      <td>0.0</td>\n",
       "      <td>0.0</td>\n",
       "      <td>-1.0</td>\n",
       "    </tr>\n",
       "    <tr>\n",
       "      <th>1</th>\n",
       "      <td>1</td>\n",
       "      <td>59.061089</td>\n",
       "      <td>0</td>\n",
       "      <td>910.019897</td>\n",
       "      <td>0</td>\n",
       "      <td>4.152784</td>\n",
       "      <td>0</td>\n",
       "      <td>0.0</td>\n",
       "      <td>0.0</td>\n",
       "      <td>-1.0</td>\n",
       "    </tr>\n",
       "    <tr>\n",
       "      <th>2</th>\n",
       "      <td>2</td>\n",
       "      <td>44.725727</td>\n",
       "      <td>0</td>\n",
       "      <td>2006.532471</td>\n",
       "      <td>0</td>\n",
       "      <td>3.619054</td>\n",
       "      <td>0</td>\n",
       "      <td>0.0</td>\n",
       "      <td>0.0</td>\n",
       "      <td>-1.0</td>\n",
       "    </tr>\n",
       "    <tr>\n",
       "      <th>3</th>\n",
       "      <td>3</td>\n",
       "      <td>91.047607</td>\n",
       "      <td>0</td>\n",
       "      <td>3721.667969</td>\n",
       "      <td>0</td>\n",
       "      <td>5.285796</td>\n",
       "      <td>0</td>\n",
       "      <td>0.0</td>\n",
       "      <td>0.0</td>\n",
       "      <td>-1.0</td>\n",
       "    </tr>\n",
       "    <tr>\n",
       "      <th>4</th>\n",
       "      <td>4</td>\n",
       "      <td>30.781578</td>\n",
       "      <td>0</td>\n",
       "      <td>5921.445312</td>\n",
       "      <td>0</td>\n",
       "      <td>2.916591</td>\n",
       "      <td>0</td>\n",
       "      <td>0.0</td>\n",
       "      <td>0.0</td>\n",
       "      <td>-1.0</td>\n",
       "    </tr>\n",
       "    <tr>\n",
       "      <th>...</th>\n",
       "      <td>...</td>\n",
       "      <td>...</td>\n",
       "      <td>...</td>\n",
       "      <td>...</td>\n",
       "      <td>...</td>\n",
       "      <td>...</td>\n",
       "      <td>...</td>\n",
       "      <td>...</td>\n",
       "      <td>...</td>\n",
       "      <td>...</td>\n",
       "    </tr>\n",
       "    <tr>\n",
       "      <th>19089</th>\n",
       "      <td>19089</td>\n",
       "      <td>180.326126</td>\n",
       "      <td>2</td>\n",
       "      <td>5214.856445</td>\n",
       "      <td>3450</td>\n",
       "      <td>2.845015</td>\n",
       "      <td>0</td>\n",
       "      <td>0.0</td>\n",
       "      <td>0.0</td>\n",
       "      <td>-1.0</td>\n",
       "    </tr>\n",
       "    <tr>\n",
       "      <th>19090</th>\n",
       "      <td>19090</td>\n",
       "      <td>160.985626</td>\n",
       "      <td>2</td>\n",
       "      <td>5215.486816</td>\n",
       "      <td>3451</td>\n",
       "      <td>2.816978</td>\n",
       "      <td>0</td>\n",
       "      <td>0.0</td>\n",
       "      <td>0.0</td>\n",
       "      <td>-1.0</td>\n",
       "    </tr>\n",
       "    <tr>\n",
       "      <th>19091</th>\n",
       "      <td>19091</td>\n",
       "      <td>202.731339</td>\n",
       "      <td>2</td>\n",
       "      <td>5215.805176</td>\n",
       "      <td>3452</td>\n",
       "      <td>3.027444</td>\n",
       "      <td>0</td>\n",
       "      <td>0.0</td>\n",
       "      <td>0.0</td>\n",
       "      <td>-1.0</td>\n",
       "    </tr>\n",
       "    <tr>\n",
       "      <th>19092</th>\n",
       "      <td>19092</td>\n",
       "      <td>145.051010</td>\n",
       "      <td>2</td>\n",
       "      <td>5217.264648</td>\n",
       "      <td>3453</td>\n",
       "      <td>2.920720</td>\n",
       "      <td>0</td>\n",
       "      <td>0.0</td>\n",
       "      <td>0.0</td>\n",
       "      <td>-1.0</td>\n",
       "    </tr>\n",
       "    <tr>\n",
       "      <th>19093</th>\n",
       "      <td>19093</td>\n",
       "      <td>96.313126</td>\n",
       "      <td>2</td>\n",
       "      <td>5219.639648</td>\n",
       "      <td>3454</td>\n",
       "      <td>3.006731</td>\n",
       "      <td>0</td>\n",
       "      <td>0.0</td>\n",
       "      <td>0.0</td>\n",
       "      <td>-1.0</td>\n",
       "    </tr>\n",
       "  </tbody>\n",
       "</table>\n",
       "<p>19094 rows × 10 columns</p>\n",
       "</div>"
      ],
      "text/plain": [
       "       hit_id    integral  local_plane   local_time  local_wire       rms  \\\n",
       "0           0   34.548923            0   903.091797           0  2.488400   \n",
       "1           1   59.061089            0   910.019897           0  4.152784   \n",
       "2           2   44.725727            0  2006.532471           0  3.619054   \n",
       "3           3   91.047607            0  3721.667969           0  5.285796   \n",
       "4           4   30.781578            0  5921.445312           0  2.916591   \n",
       "...       ...         ...          ...          ...         ...       ...   \n",
       "19089   19089  180.326126            2  5214.856445        3450  2.845015   \n",
       "19090   19090  160.985626            2  5215.486816        3451  2.816978   \n",
       "19091   19091  202.731339            2  5215.805176        3452  3.027444   \n",
       "19092   19092  145.051010            2  5217.264648        3453  2.920720   \n",
       "19093   19093   96.313126            2  5219.639648        3454  3.006731   \n",
       "\n",
       "       tpc  energy  energy_fraction  g4_id  \n",
       "0        0     0.0              0.0   -1.0  \n",
       "1        0     0.0              0.0   -1.0  \n",
       "2        0     0.0              0.0   -1.0  \n",
       "3        0     0.0              0.0   -1.0  \n",
       "4        0     0.0              0.0   -1.0  \n",
       "...    ...     ...              ...    ...  \n",
       "19089    0     0.0              0.0   -1.0  \n",
       "19090    0     0.0              0.0   -1.0  \n",
       "19091    0     0.0              0.0   -1.0  \n",
       "19092    0     0.0              0.0   -1.0  \n",
       "19093    0     0.0              0.0   -1.0  \n",
       "\n",
       "[19094 rows x 10 columns]"
      ]
     },
     "execution_count": 14,
     "metadata": {},
     "output_type": "execute_result"
    }
   ],
   "source": [
    "hits = evt[\"hit_table\"]\n",
    "edeps = evt[\"edep_table\"]\n",
    "edeps = edeps.sort_values(by=['energy_fraction'], ascending=False, kind='mergesort').drop_duplicates([\"hit_id\"])\n",
    "hits = hits.merge(edeps, on=[\"hit_id\"], how=\"left\")\n",
    "hits['g4_id'] = hits['g4_id'].fillna(-1)\n",
    "hits = hits.fillna(0)\n",
    "hits"
   ]
  },
  {
   "cell_type": "markdown",
   "id": "ea132887",
   "metadata": {},
   "source": [
    "Now we define the ground truth per non-zero pixel. We assign a truth value of `+1` to the pixels that are within a window around the time of a hit from the neutrino interaction (window size defined in terms of `n` times the hit time RMS: `nrms`, set to 2 in this example) , and a value of `-1` for those around the time of a cosmic-induced hit. We use this information to produce a ground truth image."
   ]
  },
  {
   "cell_type": "code",
   "execution_count": 15,
   "id": "6e12da62",
   "metadata": {},
   "outputs": [],
   "source": [
    "from math import floor, ceil"
   ]
  },
  {
   "cell_type": "code",
   "execution_count": null,
   "id": "d4513747",
   "metadata": {},
   "outputs": [],
   "source": [
    "nu_only = False  # Decide whether to only take hits labelled as belonging to neutrino interactions"
   ]
  },
  {
   "cell_type": "code",
   "execution_count": null,
   "id": "98801ec3",
   "metadata": {},
   "outputs": [],
   "source": [
    "Pfp = evt[\"pandoraHit_table\"]  \n",
    "if nu_only:\n",
    "    Pfp = Pfp.query(\"pfp_id>=0\")"
   ]
  },
  {
   "cell_type": "code",
   "execution_count": null,
   "id": "e79e9573",
   "metadata": {},
   "outputs": [
    {
     "data": {
      "text/html": [
       "<div>\n",
       "<style scoped>\n",
       "    .dataframe tbody tr th:only-of-type {\n",
       "        vertical-align: middle;\n",
       "    }\n",
       "\n",
       "    .dataframe tbody tr th {\n",
       "        vertical-align: top;\n",
       "    }\n",
       "\n",
       "    .dataframe thead th {\n",
       "        text-align: right;\n",
       "    }\n",
       "</style>\n",
       "<table border=\"1\" class=\"dataframe\">\n",
       "  <thead>\n",
       "    <tr style=\"text-align: right;\">\n",
       "      <th></th>\n",
       "      <th>hit_id</th>\n",
       "      <th>pfp_id</th>\n",
       "      <th>slice_id</th>\n",
       "      <th>integral</th>\n",
       "      <th>local_plane</th>\n",
       "      <th>local_time</th>\n",
       "      <th>local_wire</th>\n",
       "      <th>rms</th>\n",
       "      <th>tpc</th>\n",
       "      <th>energy</th>\n",
       "      <th>energy_fraction</th>\n",
       "      <th>g4_id</th>\n",
       "    </tr>\n",
       "  </thead>\n",
       "  <tbody>\n",
       "    <tr>\n",
       "      <th>0</th>\n",
       "      <td>0</td>\n",
       "      <td>-1</td>\n",
       "      <td>17</td>\n",
       "      <td>34.548923</td>\n",
       "      <td>0</td>\n",
       "      <td>903.091797</td>\n",
       "      <td>0</td>\n",
       "      <td>2.488400</td>\n",
       "      <td>0</td>\n",
       "      <td>0.0</td>\n",
       "      <td>0.0</td>\n",
       "      <td>-1.0</td>\n",
       "    </tr>\n",
       "    <tr>\n",
       "      <th>1</th>\n",
       "      <td>1</td>\n",
       "      <td>-1</td>\n",
       "      <td>17</td>\n",
       "      <td>59.061089</td>\n",
       "      <td>0</td>\n",
       "      <td>910.019897</td>\n",
       "      <td>0</td>\n",
       "      <td>4.152784</td>\n",
       "      <td>0</td>\n",
       "      <td>0.0</td>\n",
       "      <td>0.0</td>\n",
       "      <td>-1.0</td>\n",
       "    </tr>\n",
       "    <tr>\n",
       "      <th>2</th>\n",
       "      <td>2</td>\n",
       "      <td>-1</td>\n",
       "      <td>17</td>\n",
       "      <td>44.725727</td>\n",
       "      <td>0</td>\n",
       "      <td>2006.532471</td>\n",
       "      <td>0</td>\n",
       "      <td>3.619054</td>\n",
       "      <td>0</td>\n",
       "      <td>0.0</td>\n",
       "      <td>0.0</td>\n",
       "      <td>-1.0</td>\n",
       "    </tr>\n",
       "    <tr>\n",
       "      <th>3</th>\n",
       "      <td>3</td>\n",
       "      <td>-1</td>\n",
       "      <td>17</td>\n",
       "      <td>91.047607</td>\n",
       "      <td>0</td>\n",
       "      <td>3721.667969</td>\n",
       "      <td>0</td>\n",
       "      <td>5.285796</td>\n",
       "      <td>0</td>\n",
       "      <td>0.0</td>\n",
       "      <td>0.0</td>\n",
       "      <td>-1.0</td>\n",
       "    </tr>\n",
       "    <tr>\n",
       "      <th>4</th>\n",
       "      <td>4</td>\n",
       "      <td>-1</td>\n",
       "      <td>17</td>\n",
       "      <td>30.781578</td>\n",
       "      <td>0</td>\n",
       "      <td>5921.445312</td>\n",
       "      <td>0</td>\n",
       "      <td>2.916591</td>\n",
       "      <td>0</td>\n",
       "      <td>0.0</td>\n",
       "      <td>0.0</td>\n",
       "      <td>-1.0</td>\n",
       "    </tr>\n",
       "    <tr>\n",
       "      <th>...</th>\n",
       "      <td>...</td>\n",
       "      <td>...</td>\n",
       "      <td>...</td>\n",
       "      <td>...</td>\n",
       "      <td>...</td>\n",
       "      <td>...</td>\n",
       "      <td>...</td>\n",
       "      <td>...</td>\n",
       "      <td>...</td>\n",
       "      <td>...</td>\n",
       "      <td>...</td>\n",
       "      <td>...</td>\n",
       "    </tr>\n",
       "    <tr>\n",
       "      <th>19089</th>\n",
       "      <td>19089</td>\n",
       "      <td>-1</td>\n",
       "      <td>13</td>\n",
       "      <td>180.326126</td>\n",
       "      <td>2</td>\n",
       "      <td>5214.856445</td>\n",
       "      <td>3450</td>\n",
       "      <td>2.845015</td>\n",
       "      <td>0</td>\n",
       "      <td>0.0</td>\n",
       "      <td>0.0</td>\n",
       "      <td>-1.0</td>\n",
       "    </tr>\n",
       "    <tr>\n",
       "      <th>19090</th>\n",
       "      <td>19090</td>\n",
       "      <td>-1</td>\n",
       "      <td>13</td>\n",
       "      <td>160.985626</td>\n",
       "      <td>2</td>\n",
       "      <td>5215.486816</td>\n",
       "      <td>3451</td>\n",
       "      <td>2.816978</td>\n",
       "      <td>0</td>\n",
       "      <td>0.0</td>\n",
       "      <td>0.0</td>\n",
       "      <td>-1.0</td>\n",
       "    </tr>\n",
       "    <tr>\n",
       "      <th>19091</th>\n",
       "      <td>19091</td>\n",
       "      <td>-1</td>\n",
       "      <td>13</td>\n",
       "      <td>202.731339</td>\n",
       "      <td>2</td>\n",
       "      <td>5215.805176</td>\n",
       "      <td>3452</td>\n",
       "      <td>3.027444</td>\n",
       "      <td>0</td>\n",
       "      <td>0.0</td>\n",
       "      <td>0.0</td>\n",
       "      <td>-1.0</td>\n",
       "    </tr>\n",
       "    <tr>\n",
       "      <th>19092</th>\n",
       "      <td>19092</td>\n",
       "      <td>-1</td>\n",
       "      <td>13</td>\n",
       "      <td>145.051010</td>\n",
       "      <td>2</td>\n",
       "      <td>5217.264648</td>\n",
       "      <td>3453</td>\n",
       "      <td>2.920720</td>\n",
       "      <td>0</td>\n",
       "      <td>0.0</td>\n",
       "      <td>0.0</td>\n",
       "      <td>-1.0</td>\n",
       "    </tr>\n",
       "    <tr>\n",
       "      <th>19093</th>\n",
       "      <td>19093</td>\n",
       "      <td>-1</td>\n",
       "      <td>13</td>\n",
       "      <td>96.313126</td>\n",
       "      <td>2</td>\n",
       "      <td>5219.639648</td>\n",
       "      <td>3454</td>\n",
       "      <td>3.006731</td>\n",
       "      <td>0</td>\n",
       "      <td>0.0</td>\n",
       "      <td>0.0</td>\n",
       "      <td>-1.0</td>\n",
       "    </tr>\n",
       "  </tbody>\n",
       "</table>\n",
       "<p>19094 rows × 12 columns</p>\n",
       "</div>"
      ],
      "text/plain": [
       "       hit_id  pfp_id  slice_id    integral  local_plane   local_time  \\\n",
       "0           0      -1        17   34.548923            0   903.091797   \n",
       "1           1      -1        17   59.061089            0   910.019897   \n",
       "2           2      -1        17   44.725727            0  2006.532471   \n",
       "3           3      -1        17   91.047607            0  3721.667969   \n",
       "4           4      -1        17   30.781578            0  5921.445312   \n",
       "...       ...     ...       ...         ...          ...          ...   \n",
       "19089   19089      -1        13  180.326126            2  5214.856445   \n",
       "19090   19090      -1        13  160.985626            2  5215.486816   \n",
       "19091   19091      -1        13  202.731339            2  5215.805176   \n",
       "19092   19092      -1        13  145.051010            2  5217.264648   \n",
       "19093   19093      -1        13   96.313126            2  5219.639648   \n",
       "\n",
       "       local_wire       rms  tpc  energy  energy_fraction  g4_id  \n",
       "0               0  2.488400    0     0.0              0.0   -1.0  \n",
       "1               0  4.152784    0     0.0              0.0   -1.0  \n",
       "2               0  3.619054    0     0.0              0.0   -1.0  \n",
       "3               0  5.285796    0     0.0              0.0   -1.0  \n",
       "4               0  2.916591    0     0.0              0.0   -1.0  \n",
       "...           ...       ...  ...     ...              ...    ...  \n",
       "19089        3450  2.845015    0     0.0              0.0   -1.0  \n",
       "19090        3451  2.816978    0     0.0              0.0   -1.0  \n",
       "19091        3452  3.027444    0     0.0              0.0   -1.0  \n",
       "19092        3453  2.920720    0     0.0              0.0   -1.0  \n",
       "19093        3454  3.006731    0     0.0              0.0   -1.0  \n",
       "\n",
       "[19094 rows x 12 columns]"
      ]
     },
     "execution_count": 18,
     "metadata": {},
     "output_type": "execute_result"
    }
   ],
   "source": [
    "hits = Pfp.merge(hits, on=[\"hit_id\"], how=\"left\")   # Merge Pandora hit table information into hits\n",
    "hits"
   ]
  },
  {
   "cell_type": "code",
   "execution_count": 19,
   "id": "9ac10446",
   "metadata": {},
   "outputs": [],
   "source": [
    "planetruth = [np.zeros(shape=(nwires(p),ntimeticks())) for p in range(0,nplanes())]\n",
    "\n",
    "nrms = 2\n",
    "for p in range(0,nplanes()):\n",
    "    nuhits = hits.query('local_plane==%i and g4_id>=0'%p)[['local_wire','local_time','rms']]\n",
    "    for i,h in nuhits.iterrows():\n",
    "        planetruth[p][int(h['local_wire'])][floor(h['local_time']-nrms*h['rms']):ceil(h['local_time']+nrms*h['rms'])] = 1\n",
    "    cosmhits = hits.query('local_plane==%i and g4_id<0'%p)[['local_wire','local_time','rms']]\n",
    "    for i,h in cosmhits.iterrows():\n",
    "        planetruth[p][int(h['local_wire'])][floor(h['local_time']-nrms*h['rms']):ceil(h['local_time']+nrms*h['rms'])] = -1\n",
    "\n",
    "for p in range(0,nplanes()):\n",
    "    planetruth[p] = block_reduce(planetruth[p], block_size=(1,f_downsample), func=np.sum)\n",
    "\n",
    "for p in range(0,nplanes()):\n",
    "    planetruth[p] = np.multiply(planetruth[p],planeadcs[p])"
   ]
  },
  {
   "cell_type": "code",
   "execution_count": null,
   "id": "101d3db6",
   "metadata": {},
   "outputs": [
    {
     "data": {
      "text/plain": [
       "<matplotlib.colorbar.Colorbar at 0x7fcb48021110>"
      ]
     },
     "execution_count": 20,
     "metadata": {},
     "output_type": "execute_result"
    },
    {
     "data": {
      "image/png": "[encoded data removed]",
      "text/plain": [
       "<Figure size 640x480 with 2 Axes>"
      ]
     },
     "metadata": {},
     "output_type": "display_data"
    }
   ],
   "source": [
    "plt.imshow(planetruth[0].T,vmin=-1,vmax=1,origin='lower',cmap='coolwarm')   # Only plot first plane\n",
    "plt.colorbar()"
   ]
  },
  {
   "cell_type": "code",
   "execution_count": null,
   "id": "0d083359",
   "metadata": {},
   "outputs": [],
   "source": [
    "# Store hits in sparse format for use in clustering algorithms like DBSCAN\n",
    "\n",
    "hits = hits.query(\"local_plane==0\")\n",
    "\n",
    "x_coords = []\n",
    "y_coords = []\n",
    "slice_ids = []\n",
    "\n",
    "for i,h in hits.iterrows():\n",
    "    for j in range(floor(h['local_time']-nrms*h['rms']), ceil(h['local_time']+nrms*h['rms']) + 1):\n",
    "        x_coords.append(h[\"local_wire\"])\n",
    "        y_coords.append(j)\n",
    "        slice_ids.append(h[\"slice_id\"])  \n",
    "        \n",
    "x_coords = np.array(x_coords)\n",
    "y_coords = np.array(y_coords)"
   ]
  },
  {
   "cell_type": "code",
   "execution_count": 38,
   "id": "5f6fdf08",
   "metadata": {},
   "outputs": [],
   "source": [
    "np.savez(\"example_slice_data.npz\", x_coords=x_coords, y_coords=y_coords, slice_ids=slice_ids)"
   ]
  },
  {
   "cell_type": "code",
   "execution_count": 26,
   "id": "36d2b7fb",
   "metadata": {},
   "outputs": [],
   "source": [
    "import matplotlib.colors as mcolors\n",
    "\n",
    "color_list = []\n",
    "for name in mcolors.CSS4_COLORS:\n",
    "    color_list.append(name)\n",
    "    \n",
    "colors = []\n",
    "for slice_id in slice_ids:\n",
    "    colors.append(color_list[int(slice_id)])"
   ]
  },
  {
   "cell_type": "code",
   "execution_count": null,
   "id": "08fb9756",
   "metadata": {},
   "outputs": [
    {
     "data": {
      "text/plain": [
       "<matplotlib.collections.PathCollection at 0x7fcb44a77d10>"
      ]
     },
     "execution_count": 35,
     "metadata": {},
     "output_type": "execute_result"
    },
    {
     "data": {
      "image/png": "[encoded data removed]",
      "text/plain": [
       "<Figure size 640x480 with 1 Axes>"
      ]
     },
     "metadata": {},
     "output_type": "display_data"
    }
   ],
   "source": [
    "# Plot hits, colour coded by slice id. Can use slice id labels as a reference to assess how well a clustering algorithm defines hits into clusters\n",
    "\n",
    "fig, ax = plt.subplots()\n",
    "ax.scatter(np.array(x_coords), - np.array(y_coords), s=0.1, c=colors)"
   ]
  },
  {
   "cell_type": "code",
   "execution_count": null,
   "id": "589d6734",
   "metadata": {},
   "outputs": [],
   "source": []
  }
 ],
 "metadata": {
  "kernelspec": {
   "display_name": "ubopendata",
   "language": "python",
   "name": "python3"
  },
  "language_info": {
   "codemirror_mode": {
    "name": "ipython",
    "version": 3
   },
   "file_extension": ".py",
   "mimetype": "text/x-python",
   "name": "python",
   "nbconvert_exporter": "python",
   "pygments_lexer": "ipython3",
   "version": "3.7.12"
  }
 },
 "nbformat": 4,
 "nbformat_minor": 5
}
